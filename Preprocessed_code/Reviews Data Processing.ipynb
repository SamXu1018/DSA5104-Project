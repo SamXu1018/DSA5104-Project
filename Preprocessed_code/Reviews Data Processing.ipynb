{
 "cells": [
  {
   "cell_type": "markdown",
   "id": "10423589",
   "metadata": {},
   "source": [
    "### Import Data"
   ]
  },
  {
   "cell_type": "code",
   "execution_count": 39,
   "id": "43efcc27",
   "metadata": {},
   "outputs": [],
   "source": [
    "import pandas as pd\n",
    "\n",
    "NYC = pd.read_csv('NYC_reviews.csv')\n",
    "HKC = pd.read_csv('HKC_reviews.csv')\n",
    "SGD = pd.read_csv('SGD_reviews.csv')"
   ]
  },
  {
   "cell_type": "code",
   "execution_count": 15,
   "id": "ca6a97b7",
   "metadata": {},
   "outputs": [
    {
     "data": {
      "text/html": [
       "<div>\n",
       "<style scoped>\n",
       "    .dataframe tbody tr th:only-of-type {\n",
       "        vertical-align: middle;\n",
       "    }\n",
       "\n",
       "    .dataframe tbody tr th {\n",
       "        vertical-align: top;\n",
       "    }\n",
       "\n",
       "    .dataframe thead th {\n",
       "        text-align: right;\n",
       "    }\n",
       "</style>\n",
       "<table border=\"1\" class=\"dataframe\">\n",
       "  <thead>\n",
       "    <tr style=\"text-align: right;\">\n",
       "      <th></th>\n",
       "      <th>listing_id</th>\n",
       "      <th>id</th>\n",
       "      <th>date</th>\n",
       "      <th>reviewer_id</th>\n",
       "      <th>reviewer_name</th>\n",
       "      <th>comments</th>\n",
       "    </tr>\n",
       "  </thead>\n",
       "  <tbody>\n",
       "    <tr>\n",
       "      <th>0</th>\n",
       "      <td>2595</td>\n",
       "      <td>17857</td>\n",
       "      <td>2009-11-21</td>\n",
       "      <td>50679</td>\n",
       "      <td>Jean</td>\n",
       "      <td>Notre séjour de trois nuits.\\r&lt;br/&gt;Nous avons ...</td>\n",
       "    </tr>\n",
       "    <tr>\n",
       "      <th>1</th>\n",
       "      <td>2595</td>\n",
       "      <td>19176</td>\n",
       "      <td>2009-12-05</td>\n",
       "      <td>53267</td>\n",
       "      <td>Cate</td>\n",
       "      <td>Great experience.</td>\n",
       "    </tr>\n",
       "    <tr>\n",
       "      <th>2</th>\n",
       "      <td>2595</td>\n",
       "      <td>19760</td>\n",
       "      <td>2009-12-10</td>\n",
       "      <td>38960</td>\n",
       "      <td>Anita</td>\n",
       "      <td>I've stayed with my friend at the Midtown Cast...</td>\n",
       "    </tr>\n",
       "    <tr>\n",
       "      <th>3</th>\n",
       "      <td>2595</td>\n",
       "      <td>34320</td>\n",
       "      <td>2010-04-09</td>\n",
       "      <td>71130</td>\n",
       "      <td>Kai-Uwe</td>\n",
       "      <td>We've been staying here for about 9 nights, en...</td>\n",
       "    </tr>\n",
       "    <tr>\n",
       "      <th>4</th>\n",
       "      <td>2595</td>\n",
       "      <td>46312</td>\n",
       "      <td>2010-05-25</td>\n",
       "      <td>117113</td>\n",
       "      <td>Alicia</td>\n",
       "      <td>We had a wonderful stay at Jennifer's charming...</td>\n",
       "    </tr>\n",
       "  </tbody>\n",
       "</table>\n",
       "</div>"
      ],
      "text/plain": [
       "   listing_id     id        date  reviewer_id reviewer_name  \\\n",
       "0        2595  17857  2009-11-21        50679          Jean   \n",
       "1        2595  19176  2009-12-05        53267          Cate   \n",
       "2        2595  19760  2009-12-10        38960         Anita   \n",
       "3        2595  34320  2010-04-09        71130       Kai-Uwe   \n",
       "4        2595  46312  2010-05-25       117113        Alicia   \n",
       "\n",
       "                                            comments  \n",
       "0  Notre séjour de trois nuits.\\r<br/>Nous avons ...  \n",
       "1                                  Great experience.  \n",
       "2  I've stayed with my friend at the Midtown Cast...  \n",
       "3  We've been staying here for about 9 nights, en...  \n",
       "4  We had a wonderful stay at Jennifer's charming...  "
      ]
     },
     "execution_count": 15,
     "metadata": {},
     "output_type": "execute_result"
    }
   ],
   "source": [
    "NYC.head()\n"
   ]
  },
  {
   "cell_type": "code",
   "execution_count": 16,
   "id": "39293a49",
   "metadata": {},
   "outputs": [
    {
     "data": {
      "text/plain": [
       "(983621, 6)"
      ]
     },
     "execution_count": 16,
     "metadata": {},
     "output_type": "execute_result"
    }
   ],
   "source": [
    "NYC.shape"
   ]
  },
  {
   "cell_type": "code",
   "execution_count": 44,
   "id": "c695c3c2",
   "metadata": {},
   "outputs": [],
   "source": [
    "SGD['date'] = pd.to_datetime(SGD['date']).dt.date\n",
    "NYC['date'] = pd.to_datetime(HKC['date']).dt.date\n",
    "HKC['date'] = pd.to_datetime(NYC['date']).dt.date"
   ]
  },
  {
   "cell_type": "code",
   "execution_count": 45,
   "id": "9f9ac1dc",
   "metadata": {},
   "outputs": [
    {
     "data": {
      "text/plain": [
       "listing_id        int64\n",
       "id                int64\n",
       "date             object\n",
       "reviewer_id       int64\n",
       "reviewer_name    object\n",
       "comments         object\n",
       "dtype: object"
      ]
     },
     "execution_count": 45,
     "metadata": {},
     "output_type": "execute_result"
    }
   ],
   "source": [
    "NYC.dtypes"
   ]
  },
  {
   "cell_type": "code",
   "execution_count": 19,
   "id": "cef7c177",
   "metadata": {},
   "outputs": [
    {
     "data": {
      "text/html": [
       "<div>\n",
       "<style scoped>\n",
       "    .dataframe tbody tr th:only-of-type {\n",
       "        vertical-align: middle;\n",
       "    }\n",
       "\n",
       "    .dataframe tbody tr th {\n",
       "        vertical-align: top;\n",
       "    }\n",
       "\n",
       "    .dataframe thead th {\n",
       "        text-align: right;\n",
       "    }\n",
       "</style>\n",
       "<table border=\"1\" class=\"dataframe\">\n",
       "  <thead>\n",
       "    <tr style=\"text-align: right;\">\n",
       "      <th></th>\n",
       "      <th>listing_id</th>\n",
       "      <th>id</th>\n",
       "      <th>date</th>\n",
       "      <th>reviewer_id</th>\n",
       "      <th>reviewer_name</th>\n",
       "      <th>comments</th>\n",
       "    </tr>\n",
       "  </thead>\n",
       "  <tbody>\n",
       "    <tr>\n",
       "      <th>0</th>\n",
       "      <td>17891</td>\n",
       "      <td>37352</td>\n",
       "      <td>2010-04-23</td>\n",
       "      <td>76132</td>\n",
       "      <td>Tamara</td>\n",
       "      <td>The apartment on Holly wood Rd was exactly as ...</td>\n",
       "    </tr>\n",
       "    <tr>\n",
       "      <th>1</th>\n",
       "      <td>17891</td>\n",
       "      <td>56688</td>\n",
       "      <td>2010-06-24</td>\n",
       "      <td>97136</td>\n",
       "      <td>Wendy</td>\n",
       "      <td>Apartment was perfect  - stylish, spacious and...</td>\n",
       "    </tr>\n",
       "    <tr>\n",
       "      <th>2</th>\n",
       "      <td>17891</td>\n",
       "      <td>76243</td>\n",
       "      <td>2010-08-09</td>\n",
       "      <td>163312</td>\n",
       "      <td>Angela</td>\n",
       "      <td>We loved staying here for the weekend. The apa...</td>\n",
       "    </tr>\n",
       "    <tr>\n",
       "      <th>3</th>\n",
       "      <td>17891</td>\n",
       "      <td>93590</td>\n",
       "      <td>2010-09-09</td>\n",
       "      <td>148333</td>\n",
       "      <td>Jennifer</td>\n",
       "      <td>An awesome loft that looks just like it does i...</td>\n",
       "    </tr>\n",
       "    <tr>\n",
       "      <th>4</th>\n",
       "      <td>17891</td>\n",
       "      <td>108082</td>\n",
       "      <td>2010-09-29</td>\n",
       "      <td>218702</td>\n",
       "      <td>Matt</td>\n",
       "      <td>Candace was great, she prepared the loft with ...</td>\n",
       "    </tr>\n",
       "  </tbody>\n",
       "</table>\n",
       "</div>"
      ],
      "text/plain": [
       "   listing_id      id       date  reviewer_id reviewer_name  \\\n",
       "0       17891   37352 2010-04-23        76132        Tamara   \n",
       "1       17891   56688 2010-06-24        97136         Wendy   \n",
       "2       17891   76243 2010-08-09       163312        Angela   \n",
       "3       17891   93590 2010-09-09       148333      Jennifer   \n",
       "4       17891  108082 2010-09-29       218702          Matt   \n",
       "\n",
       "                                            comments  \n",
       "0  The apartment on Holly wood Rd was exactly as ...  \n",
       "1  Apartment was perfect  - stylish, spacious and...  \n",
       "2  We loved staying here for the weekend. The apa...  \n",
       "3  An awesome loft that looks just like it does i...  \n",
       "4  Candace was great, she prepared the loft with ...  "
      ]
     },
     "execution_count": 19,
     "metadata": {},
     "output_type": "execute_result"
    }
   ],
   "source": [
    "HKC.head()"
   ]
  },
  {
   "cell_type": "code",
   "execution_count": 20,
   "id": "7d541cd1",
   "metadata": {},
   "outputs": [
    {
     "data": {
      "text/plain": [
       "(95386, 6)"
      ]
     },
     "execution_count": 20,
     "metadata": {},
     "output_type": "execute_result"
    }
   ],
   "source": [
    "HKC.shape"
   ]
  },
  {
   "cell_type": "code",
   "execution_count": 21,
   "id": "289c09ad",
   "metadata": {},
   "outputs": [
    {
     "data": {
      "text/html": [
       "<div>\n",
       "<style scoped>\n",
       "    .dataframe tbody tr th:only-of-type {\n",
       "        vertical-align: middle;\n",
       "    }\n",
       "\n",
       "    .dataframe tbody tr th {\n",
       "        vertical-align: top;\n",
       "    }\n",
       "\n",
       "    .dataframe thead th {\n",
       "        text-align: right;\n",
       "    }\n",
       "</style>\n",
       "<table border=\"1\" class=\"dataframe\">\n",
       "  <thead>\n",
       "    <tr style=\"text-align: right;\">\n",
       "      <th></th>\n",
       "      <th>listing_id</th>\n",
       "      <th>id</th>\n",
       "      <th>date</th>\n",
       "      <th>reviewer_id</th>\n",
       "      <th>reviewer_name</th>\n",
       "      <th>comments</th>\n",
       "    </tr>\n",
       "  </thead>\n",
       "  <tbody>\n",
       "    <tr>\n",
       "      <th>0</th>\n",
       "      <td>71609</td>\n",
       "      <td>793880</td>\n",
       "      <td>2011-12-19</td>\n",
       "      <td>1456140</td>\n",
       "      <td>Max</td>\n",
       "      <td>The rooms were clean and tidy. Beds very comfo...</td>\n",
       "    </tr>\n",
       "    <tr>\n",
       "      <th>1</th>\n",
       "      <td>3209752</td>\n",
       "      <td>523972161</td>\n",
       "      <td>2019-09-05</td>\n",
       "      <td>20987832</td>\n",
       "      <td>Eng Hui</td>\n",
       "      <td>Thank you for making me feel at home, it is su...</td>\n",
       "    </tr>\n",
       "    <tr>\n",
       "      <th>2</th>\n",
       "      <td>3209752</td>\n",
       "      <td>527054740</td>\n",
       "      <td>2019-09-10</td>\n",
       "      <td>3963956</td>\n",
       "      <td>Lug</td>\n",
       "      <td>An absolutely amazing place. It’s clean, styli...</td>\n",
       "    </tr>\n",
       "    <tr>\n",
       "      <th>3</th>\n",
       "      <td>3209752</td>\n",
       "      <td>528926785</td>\n",
       "      <td>2019-09-14</td>\n",
       "      <td>66599486</td>\n",
       "      <td>Andrew</td>\n",
       "      <td>This location is private yet it is only 400m w...</td>\n",
       "    </tr>\n",
       "    <tr>\n",
       "      <th>4</th>\n",
       "      <td>3209752</td>\n",
       "      <td>538619865</td>\n",
       "      <td>2019-09-30</td>\n",
       "      <td>110050140</td>\n",
       "      <td>Damien</td>\n",
       "      <td>Jeremy is a great host that will make your sta...</td>\n",
       "    </tr>\n",
       "  </tbody>\n",
       "</table>\n",
       "</div>"
      ],
      "text/plain": [
       "   listing_id         id       date  reviewer_id reviewer_name  \\\n",
       "0       71609     793880 2011-12-19      1456140           Max   \n",
       "1     3209752  523972161 2019-09-05     20987832       Eng Hui   \n",
       "2     3209752  527054740 2019-09-10      3963956           Lug   \n",
       "3     3209752  528926785 2019-09-14     66599486        Andrew   \n",
       "4     3209752  538619865 2019-09-30    110050140        Damien   \n",
       "\n",
       "                                            comments  \n",
       "0  The rooms were clean and tidy. Beds very comfo...  \n",
       "1  Thank you for making me feel at home, it is su...  \n",
       "2  An absolutely amazing place. It’s clean, styli...  \n",
       "3  This location is private yet it is only 400m w...  \n",
       "4  Jeremy is a great host that will make your sta...  "
      ]
     },
     "execution_count": 21,
     "metadata": {},
     "output_type": "execute_result"
    }
   ],
   "source": [
    "SGD.head()"
   ]
  },
  {
   "cell_type": "code",
   "execution_count": 22,
   "id": "ae289c57",
   "metadata": {},
   "outputs": [
    {
     "data": {
      "text/plain": [
       "(35698, 6)"
      ]
     },
     "execution_count": 22,
     "metadata": {},
     "output_type": "execute_result"
    }
   ],
   "source": [
    "SGD.shape"
   ]
  },
  {
   "cell_type": "markdown",
   "id": "d0d0eb3a",
   "metadata": {},
   "source": [
    "### Combinne the Data"
   ]
  },
  {
   "cell_type": "code",
   "execution_count": 49,
   "id": "fab95e11",
   "metadata": {},
   "outputs": [
    {
     "data": {
      "text/html": [
       "<div>\n",
       "<style scoped>\n",
       "    .dataframe tbody tr th:only-of-type {\n",
       "        vertical-align: middle;\n",
       "    }\n",
       "\n",
       "    .dataframe tbody tr th {\n",
       "        vertical-align: top;\n",
       "    }\n",
       "\n",
       "    .dataframe thead th {\n",
       "        text-align: right;\n",
       "    }\n",
       "</style>\n",
       "<table border=\"1\" class=\"dataframe\">\n",
       "  <thead>\n",
       "    <tr style=\"text-align: right;\">\n",
       "      <th></th>\n",
       "      <th>listing_id</th>\n",
       "      <th>id</th>\n",
       "      <th>date</th>\n",
       "      <th>reviewer_id</th>\n",
       "      <th>reviewer_name</th>\n",
       "      <th>comments</th>\n",
       "      <th>Country</th>\n",
       "    </tr>\n",
       "  </thead>\n",
       "  <tbody>\n",
       "    <tr>\n",
       "      <th>0</th>\n",
       "      <td>71609</td>\n",
       "      <td>793880</td>\n",
       "      <td>2011-12-19</td>\n",
       "      <td>1456140</td>\n",
       "      <td>Max</td>\n",
       "      <td>The rooms were clean and tidy. Beds very comfo...</td>\n",
       "      <td>Singapore</td>\n",
       "    </tr>\n",
       "    <tr>\n",
       "      <th>1</th>\n",
       "      <td>3209752</td>\n",
       "      <td>523972161</td>\n",
       "      <td>2019-09-05</td>\n",
       "      <td>20987832</td>\n",
       "      <td>Eng Hui</td>\n",
       "      <td>Thank you for making me feel at home, it is su...</td>\n",
       "      <td>Singapore</td>\n",
       "    </tr>\n",
       "    <tr>\n",
       "      <th>2</th>\n",
       "      <td>3209752</td>\n",
       "      <td>527054740</td>\n",
       "      <td>2019-09-10</td>\n",
       "      <td>3963956</td>\n",
       "      <td>Lug</td>\n",
       "      <td>An absolutely amazing place. It’s clean, styli...</td>\n",
       "      <td>Singapore</td>\n",
       "    </tr>\n",
       "    <tr>\n",
       "      <th>3</th>\n",
       "      <td>3209752</td>\n",
       "      <td>528926785</td>\n",
       "      <td>2019-09-14</td>\n",
       "      <td>66599486</td>\n",
       "      <td>Andrew</td>\n",
       "      <td>This location is private yet it is only 400m w...</td>\n",
       "      <td>Singapore</td>\n",
       "    </tr>\n",
       "    <tr>\n",
       "      <th>4</th>\n",
       "      <td>3209752</td>\n",
       "      <td>538619865</td>\n",
       "      <td>2019-09-30</td>\n",
       "      <td>110050140</td>\n",
       "      <td>Damien</td>\n",
       "      <td>Jeremy is a great host that will make your sta...</td>\n",
       "      <td>Singapore</td>\n",
       "    </tr>\n",
       "  </tbody>\n",
       "</table>\n",
       "</div>"
      ],
      "text/plain": [
       "   listing_id         id        date  reviewer_id reviewer_name  \\\n",
       "0       71609     793880  2011-12-19      1456140           Max   \n",
       "1     3209752  523972161  2019-09-05     20987832       Eng Hui   \n",
       "2     3209752  527054740  2019-09-10      3963956           Lug   \n",
       "3     3209752  528926785  2019-09-14     66599486        Andrew   \n",
       "4     3209752  538619865  2019-09-30    110050140        Damien   \n",
       "\n",
       "                                            comments    Country  \n",
       "0  The rooms were clean and tidy. Beds very comfo...  Singapore  \n",
       "1  Thank you for making me feel at home, it is su...  Singapore  \n",
       "2  An absolutely amazing place. It’s clean, styli...  Singapore  \n",
       "3  This location is private yet it is only 400m w...  Singapore  \n",
       "4  Jeremy is a great host that will make your sta...  Singapore  "
      ]
     },
     "execution_count": 49,
     "metadata": {},
     "output_type": "execute_result"
    }
   ],
   "source": [
    "import pandas as pd\n",
    "\n",
    "SGD['Country'] = 'Singapore'\n",
    "NYC['Country'] = 'New York'\n",
    "HKC['Country'] = 'Hong Kong'\n",
    "\n",
    "combined_df = pd.concat([SGD, NYC, HKC], ignore_index=True)\n",
    "\n",
    "combined_df.head()"
   ]
  },
  {
   "cell_type": "code",
   "execution_count": 50,
   "id": "74d17d0a",
   "metadata": {},
   "outputs": [
    {
     "data": {
      "text/plain": [
       "(1114705, 7)"
      ]
     },
     "execution_count": 50,
     "metadata": {},
     "output_type": "execute_result"
    }
   ],
   "source": [
    "combined_df.shape"
   ]
  },
  {
   "cell_type": "code",
   "execution_count": 51,
   "id": "dcf40251",
   "metadata": {},
   "outputs": [
    {
     "data": {
      "text/html": [
       "<div>\n",
       "<style scoped>\n",
       "    .dataframe tbody tr th:only-of-type {\n",
       "        vertical-align: middle;\n",
       "    }\n",
       "\n",
       "    .dataframe tbody tr th {\n",
       "        vertical-align: top;\n",
       "    }\n",
       "\n",
       "    .dataframe thead th {\n",
       "        text-align: right;\n",
       "    }\n",
       "</style>\n",
       "<table border=\"1\" class=\"dataframe\">\n",
       "  <thead>\n",
       "    <tr style=\"text-align: right;\">\n",
       "      <th></th>\n",
       "      <th>listing_id</th>\n",
       "      <th>id</th>\n",
       "      <th>date</th>\n",
       "      <th>reviewer_id</th>\n",
       "      <th>reviewer_name</th>\n",
       "      <th>comments</th>\n",
       "      <th>Country</th>\n",
       "    </tr>\n",
       "  </thead>\n",
       "  <tbody>\n",
       "    <tr>\n",
       "      <th>0</th>\n",
       "      <td>71609</td>\n",
       "      <td>793880</td>\n",
       "      <td>2011-12-19</td>\n",
       "      <td>1456140</td>\n",
       "      <td>Max</td>\n",
       "      <td>The rooms were clean and tidy. Beds very comfo...</td>\n",
       "      <td>Singapore</td>\n",
       "    </tr>\n",
       "    <tr>\n",
       "      <th>1</th>\n",
       "      <td>3209752</td>\n",
       "      <td>523972161</td>\n",
       "      <td>2019-09-05</td>\n",
       "      <td>20987832</td>\n",
       "      <td>Eng Hui</td>\n",
       "      <td>Thank you for making me feel at home, it is su...</td>\n",
       "      <td>Singapore</td>\n",
       "    </tr>\n",
       "    <tr>\n",
       "      <th>2</th>\n",
       "      <td>3209752</td>\n",
       "      <td>527054740</td>\n",
       "      <td>2019-09-10</td>\n",
       "      <td>3963956</td>\n",
       "      <td>Lug</td>\n",
       "      <td>An absolutely amazing place. It’s clean, styli...</td>\n",
       "      <td>Singapore</td>\n",
       "    </tr>\n",
       "    <tr>\n",
       "      <th>3</th>\n",
       "      <td>3209752</td>\n",
       "      <td>528926785</td>\n",
       "      <td>2019-09-14</td>\n",
       "      <td>66599486</td>\n",
       "      <td>Andrew</td>\n",
       "      <td>This location is private yet it is only 400m w...</td>\n",
       "      <td>Singapore</td>\n",
       "    </tr>\n",
       "    <tr>\n",
       "      <th>4</th>\n",
       "      <td>3209752</td>\n",
       "      <td>538619865</td>\n",
       "      <td>2019-09-30</td>\n",
       "      <td>110050140</td>\n",
       "      <td>Damien</td>\n",
       "      <td>Jeremy is a great host that will make your sta...</td>\n",
       "      <td>Singapore</td>\n",
       "    </tr>\n",
       "  </tbody>\n",
       "</table>\n",
       "</div>"
      ],
      "text/plain": [
       "   listing_id         id        date  reviewer_id reviewer_name  \\\n",
       "0       71609     793880  2011-12-19      1456140           Max   \n",
       "1     3209752  523972161  2019-09-05     20987832       Eng Hui   \n",
       "2     3209752  527054740  2019-09-10      3963956           Lug   \n",
       "3     3209752  528926785  2019-09-14     66599486        Andrew   \n",
       "4     3209752  538619865  2019-09-30    110050140        Damien   \n",
       "\n",
       "                                            comments    Country  \n",
       "0  The rooms were clean and tidy. Beds very comfo...  Singapore  \n",
       "1  Thank you for making me feel at home, it is su...  Singapore  \n",
       "2  An absolutely amazing place. It’s clean, styli...  Singapore  \n",
       "3  This location is private yet it is only 400m w...  Singapore  \n",
       "4  Jeremy is a great host that will make your sta...  Singapore  "
      ]
     },
     "execution_count": 51,
     "metadata": {},
     "output_type": "execute_result"
    }
   ],
   "source": [
    "combined_df.head()"
   ]
  },
  {
   "cell_type": "markdown",
   "id": "f030fd4b",
   "metadata": {},
   "source": [
    "### Check for Null Value and Inconsistency"
   ]
  },
  {
   "cell_type": "code",
   "execution_count": 53,
   "id": "5c69fd31",
   "metadata": {},
   "outputs": [
    {
     "name": "stdout",
     "output_type": "stream",
     "text": [
      "False\n"
     ]
    }
   ],
   "source": [
    "duplicates = combined_df.duplicated(subset='id', keep=False)\n",
    "\n",
    "has_duplicates = duplicates.any()\n",
    "\n",
    "print(has_duplicates)\n"
   ]
  },
  {
   "cell_type": "code",
   "execution_count": 35,
   "id": "75f7d006",
   "metadata": {},
   "outputs": [
    {
     "name": "stdout",
     "output_type": "stream",
     "text": [
      "True\n"
     ]
    }
   ],
   "source": [
    "unique_counts = combined_df.groupby('reviewer_id')['reviewer_name'].nunique()\n",
    "a_determines_b = (unique_counts == 1).all()\n",
    "print(a_determines_b)  # Output: True if 'reviewer_id' determines 'reviewer_name', False otherwise\n"
   ]
  },
  {
   "cell_type": "code",
   "execution_count": 36,
   "id": "503bd8a0",
   "metadata": {},
   "outputs": [
    {
     "name": "stdout",
     "output_type": "stream",
     "text": [
      "Empty DataFrame\n",
      "Columns: [listing_id, id, date, reviewer_id, reviewer_name, comments, Country]\n",
      "Index: []\n"
     ]
    }
   ],
   "source": [
    "# Find the reviewer_ids with more than one associated reviewer_name\n",
    "multiple_names_ids = combined_df.groupby('reviewer_id')['reviewer_name'].nunique() > 1\n",
    "\n",
    "# Filter out the ids with multiple names\n",
    "multiple_names_ids = multiple_names_ids[multiple_names_ids]\n",
    "\n",
    "# Now, let's see the data for these ids\n",
    "discrepancies = combined_df[combined_df['reviewer_id'].isin(multiple_names_ids.index)]\n",
    "\n",
    "# Sort the data by reviewer_id for easier inspection\n",
    "discrepancies = discrepancies.sort_values(by='reviewer_id')\n",
    "\n",
    "# Display the data\n",
    "print(discrepancies)\n"
   ]
  },
  {
   "cell_type": "code",
   "execution_count": 37,
   "id": "82a20635",
   "metadata": {},
   "outputs": [
    {
     "name": "stdout",
     "output_type": "stream",
     "text": [
      "Series([], Name: reviewer_name, dtype: int64)\n"
     ]
    }
   ],
   "source": [
    "# Group by 'reviewer_id' and count unique 'reviewer_name' values\n",
    "unique_counts = combined_df.groupby('reviewer_id')['reviewer_name'].nunique()\n",
    "\n",
    "# Find 'reviewer_id' values with more than one unique 'reviewer_name'\n",
    "multiple_names_ids = unique_counts[unique_counts > 1]\n",
    "\n",
    "# Display the 'reviewer_id' values and the count of unique 'reviewer_name' values\n",
    "print(multiple_names_ids)\n"
   ]
  },
  {
   "cell_type": "code",
   "execution_count": 38,
   "id": "82a45187",
   "metadata": {},
   "outputs": [
    {
     "name": "stdout",
     "output_type": "stream",
     "text": [
      "reviewer_id      0\n",
      "reviewer_name    0\n",
      "dtype: int64\n"
     ]
    }
   ],
   "source": [
    "# Check for null values in the 'reviewer_id' and 'reviewer_name' columns\n",
    "null_counts = combined_df[['reviewer_id', 'reviewer_name']].isnull().sum()\n",
    "\n",
    "# Output the count of null values in each column\n",
    "print(null_counts)\n"
   ]
  },
  {
   "cell_type": "markdown",
   "id": "662275dc",
   "metadata": {},
   "source": [
    "### Format the \"comments\" Column"
   ]
  },
  {
   "cell_type": "code",
   "execution_count": 65,
   "id": "2109da35",
   "metadata": {},
   "outputs": [],
   "source": [
    "# Convert the 'column_name' to string type\n",
    "combined_df['comments'] = combined_df['comments'].astype(str)\n"
   ]
  },
  {
   "cell_type": "code",
   "execution_count": 71,
   "id": "adbb4c28",
   "metadata": {},
   "outputs": [
    {
     "data": {
      "text/plain": [
       "str"
      ]
     },
     "execution_count": 71,
     "metadata": {},
     "output_type": "execute_result"
    }
   ],
   "source": [
    "type(combined_df['comments'][100])"
   ]
  },
  {
   "cell_type": "code",
   "execution_count": 72,
   "id": "64bd6055",
   "metadata": {},
   "outputs": [],
   "source": [
    "import pandas as pd\n",
    "import re\n",
    "\n",
    "# Assuming df is your DataFrame and 'comments' is the column with the HTML content\n",
    "combined_df['comments'] = combined_df['comments'].replace(to_replace=r'<br\\s*\\/?>', value='\\n', regex=True)\n"
   ]
  },
  {
   "cell_type": "code",
   "execution_count": 73,
   "id": "946bc46b",
   "metadata": {},
   "outputs": [
    {
     "data": {
      "text/plain": [
       "0          The rooms were clean and tidy. Beds very comfo...\n",
       "1          Thank you for making me feel at home, it is su...\n",
       "2          An absolutely amazing place. It’s clean, styli...\n",
       "3          This location is private yet it is only 400m w...\n",
       "4          Jeremy is a great host that will make your sta...\n",
       "                                 ...                        \n",
       "1114700    先說總體感受，實在是太棒了！無論是房子還是房東 Coco，都是完美的！\\n房子位置在油麻地，...\n",
       "1114701    This apartment is only 3 mins walk from the Ya...\n",
       "1114702    Awesome stay with Forrest. What a great guy. P...\n",
       "1114703    卫生：很干净\\n实用小贴士：楼下有按摩店累了可以去按摩放松一下\\n沟通：房东很友好，阳光帅气...\n",
       "1114704                                   房主人很好，交代清晰及順利，推薦👍🏻\n",
       "Name: comments, Length: 1114705, dtype: object"
      ]
     },
     "execution_count": 73,
     "metadata": {},
     "output_type": "execute_result"
    }
   ],
   "source": [
    "combined_df['comments']"
   ]
  },
  {
   "cell_type": "markdown",
   "id": "2e38e7cf",
   "metadata": {},
   "source": [
    "### Remove the \"Country\" Column to avoid repetitive information"
   ]
  },
  {
   "cell_type": "code",
   "execution_count": 93,
   "id": "0ce573af",
   "metadata": {},
   "outputs": [],
   "source": [
    "combined_df = combined_df.drop(columns=['Country'])"
   ]
  },
  {
   "cell_type": "code",
   "execution_count": 94,
   "id": "d6192997",
   "metadata": {},
   "outputs": [
    {
     "data": {
      "text/html": [
       "<div>\n",
       "<style scoped>\n",
       "    .dataframe tbody tr th:only-of-type {\n",
       "        vertical-align: middle;\n",
       "    }\n",
       "\n",
       "    .dataframe tbody tr th {\n",
       "        vertical-align: top;\n",
       "    }\n",
       "\n",
       "    .dataframe thead th {\n",
       "        text-align: right;\n",
       "    }\n",
       "</style>\n",
       "<table border=\"1\" class=\"dataframe\">\n",
       "  <thead>\n",
       "    <tr style=\"text-align: right;\">\n",
       "      <th></th>\n",
       "      <th>listing_id</th>\n",
       "      <th>rid</th>\n",
       "      <th>date</th>\n",
       "      <th>reviewer_id</th>\n",
       "      <th>reviewer_name</th>\n",
       "      <th>comments</th>\n",
       "    </tr>\n",
       "  </thead>\n",
       "  <tbody>\n",
       "    <tr>\n",
       "      <th>0</th>\n",
       "      <td>71609</td>\n",
       "      <td>793880</td>\n",
       "      <td>2011-12-19</td>\n",
       "      <td>1456140</td>\n",
       "      <td>Max</td>\n",
       "      <td>The rooms were clean and tidy. Beds very comfo...</td>\n",
       "    </tr>\n",
       "    <tr>\n",
       "      <th>1</th>\n",
       "      <td>3209752</td>\n",
       "      <td>523972161</td>\n",
       "      <td>2019-09-05</td>\n",
       "      <td>20987832</td>\n",
       "      <td>Eng Hui</td>\n",
       "      <td>Thank you for making me feel at home, it is su...</td>\n",
       "    </tr>\n",
       "    <tr>\n",
       "      <th>2</th>\n",
       "      <td>3209752</td>\n",
       "      <td>527054740</td>\n",
       "      <td>2019-09-10</td>\n",
       "      <td>3963956</td>\n",
       "      <td>Lug</td>\n",
       "      <td>An absolutely amazing place. It’s clean, styli...</td>\n",
       "    </tr>\n",
       "    <tr>\n",
       "      <th>3</th>\n",
       "      <td>3209752</td>\n",
       "      <td>528926785</td>\n",
       "      <td>2019-09-14</td>\n",
       "      <td>66599486</td>\n",
       "      <td>Andrew</td>\n",
       "      <td>This location is private yet it is only 400m w...</td>\n",
       "    </tr>\n",
       "    <tr>\n",
       "      <th>4</th>\n",
       "      <td>3209752</td>\n",
       "      <td>538619865</td>\n",
       "      <td>2019-09-30</td>\n",
       "      <td>110050140</td>\n",
       "      <td>Damien</td>\n",
       "      <td>Jeremy is a great host that will make your sta...</td>\n",
       "    </tr>\n",
       "  </tbody>\n",
       "</table>\n",
       "</div>"
      ],
      "text/plain": [
       "   listing_id        rid        date  reviewer_id reviewer_name  \\\n",
       "0       71609     793880  2011-12-19      1456140           Max   \n",
       "1     3209752  523972161  2019-09-05     20987832       Eng Hui   \n",
       "2     3209752  527054740  2019-09-10      3963956           Lug   \n",
       "3     3209752  528926785  2019-09-14     66599486        Andrew   \n",
       "4     3209752  538619865  2019-09-30    110050140        Damien   \n",
       "\n",
       "                                            comments  \n",
       "0  The rooms were clean and tidy. Beds very comfo...  \n",
       "1  Thank you for making me feel at home, it is su...  \n",
       "2  An absolutely amazing place. It’s clean, styli...  \n",
       "3  This location is private yet it is only 400m w...  \n",
       "4  Jeremy is a great host that will make your sta...  "
      ]
     },
     "execution_count": 94,
     "metadata": {},
     "output_type": "execute_result"
    }
   ],
   "source": [
    "combined_df.head()"
   ]
  },
  {
   "cell_type": "markdown",
   "id": "be3601b9",
   "metadata": {},
   "source": [
    "### Format the \"date\" Column"
   ]
  },
  {
   "cell_type": "code",
   "execution_count": 102,
   "id": "306e604e",
   "metadata": {},
   "outputs": [
    {
     "data": {
      "text/html": [
       "<div>\n",
       "<style scoped>\n",
       "    .dataframe tbody tr th:only-of-type {\n",
       "        vertical-align: middle;\n",
       "    }\n",
       "\n",
       "    .dataframe tbody tr th {\n",
       "        vertical-align: top;\n",
       "    }\n",
       "\n",
       "    .dataframe thead th {\n",
       "        text-align: right;\n",
       "    }\n",
       "</style>\n",
       "<table border=\"1\" class=\"dataframe\">\n",
       "  <thead>\n",
       "    <tr style=\"text-align: right;\">\n",
       "      <th></th>\n",
       "      <th>listing_id</th>\n",
       "      <th>rid</th>\n",
       "      <th>date</th>\n",
       "      <th>reviewer_id</th>\n",
       "      <th>reviewer_name</th>\n",
       "      <th>comments</th>\n",
       "    </tr>\n",
       "  </thead>\n",
       "  <tbody>\n",
       "    <tr>\n",
       "      <th>12</th>\n",
       "      <td>3209752</td>\n",
       "      <td>611063059</td>\n",
       "      <td>2020-02-26</td>\n",
       "      <td>51293660</td>\n",
       "      <td>Mark</td>\n",
       "      <td>Clean and tidy room in shared apartment in Cha...</td>\n",
       "    </tr>\n",
       "    <tr>\n",
       "      <th>13</th>\n",
       "      <td>3209752</td>\n",
       "      <td>613450484</td>\n",
       "      <td>2020-03-02</td>\n",
       "      <td>932827</td>\n",
       "      <td>Joanne</td>\n",
       "      <td>Classy, stylish, and private - Jeremy's condo ...</td>\n",
       "    </tr>\n",
       "    <tr>\n",
       "      <th>62</th>\n",
       "      <td>71609</td>\n",
       "      <td>593817449</td>\n",
       "      <td>2020-01-17</td>\n",
       "      <td>29197511</td>\n",
       "      <td>Elton</td>\n",
       "      <td>Belinda was really welcoming and the checking ...</td>\n",
       "    </tr>\n",
       "    <tr>\n",
       "      <th>274</th>\n",
       "      <td>71903</td>\n",
       "      <td>590602364</td>\n",
       "      <td>2020-01-09</td>\n",
       "      <td>228835457</td>\n",
       "      <td>도현</td>\n",
       "      <td>공항에 늦게 도착해 다른 곳으로 이동하기 전 하루를 묵었습니다. 의사소통도 문제 없...</td>\n",
       "    </tr>\n",
       "    <tr>\n",
       "      <th>306</th>\n",
       "      <td>275343</td>\n",
       "      <td>622610014</td>\n",
       "      <td>2020-04-17</td>\n",
       "      <td>215743044</td>\n",
       "      <td>Sophie</td>\n",
       "      <td>Joyce is a very kind host, who always does her...</td>\n",
       "    </tr>\n",
       "    <tr>\n",
       "      <th>...</th>\n",
       "      <td>...</td>\n",
       "      <td>...</td>\n",
       "      <td>...</td>\n",
       "      <td>...</td>\n",
       "      <td>...</td>\n",
       "      <td>...</td>\n",
       "    </tr>\n",
       "    <tr>\n",
       "      <th>1114700</th>\n",
       "      <td>974317387304888150</td>\n",
       "      <td>976436841075046364</td>\n",
       "      <td>2023-09-09</td>\n",
       "      <td>173181908</td>\n",
       "      <td>Dennis</td>\n",
       "      <td>先說總體感受，實在是太棒了！無論是房子還是房東 Coco，都是完美的！\\n房子位置在油麻地，...</td>\n",
       "    </tr>\n",
       "    <tr>\n",
       "      <th>1114701</th>\n",
       "      <td>974317387304888150</td>\n",
       "      <td>977992826740849029</td>\n",
       "      <td>2023-09-11</td>\n",
       "      <td>206028952</td>\n",
       "      <td>Wallace</td>\n",
       "      <td>This apartment is only 3 mins walk from the Ya...</td>\n",
       "    </tr>\n",
       "    <tr>\n",
       "      <th>1114702</th>\n",
       "      <td>968032750772868752</td>\n",
       "      <td>972842079243299183</td>\n",
       "      <td>2023-09-04</td>\n",
       "      <td>527019129</td>\n",
       "      <td>Jamie</td>\n",
       "      <td>Awesome stay with Forrest. What a great guy. P...</td>\n",
       "    </tr>\n",
       "    <tr>\n",
       "      <th>1114703</th>\n",
       "      <td>968032750772868752</td>\n",
       "      <td>980124618059896949</td>\n",
       "      <td>2023-09-14</td>\n",
       "      <td>197973683</td>\n",
       "      <td>Kylin</td>\n",
       "      <td>卫生：很干净\\n实用小贴士：楼下有按摩店累了可以去按摩放松一下\\n沟通：房东很友好，阳光帅气...</td>\n",
       "    </tr>\n",
       "    <tr>\n",
       "      <th>1114704</th>\n",
       "      <td>969283944768308420</td>\n",
       "      <td>976492583225685313</td>\n",
       "      <td>2023-09-09</td>\n",
       "      <td>69937735</td>\n",
       "      <td>Wai Lun</td>\n",
       "      <td>房主人很好，交代清晰及順利，推薦👍🏻</td>\n",
       "    </tr>\n",
       "  </tbody>\n",
       "</table>\n",
       "<p>81004 rows × 6 columns</p>\n",
       "</div>"
      ],
      "text/plain": [
       "                 listing_id                 rid       date  reviewer_id  \\\n",
       "12                  3209752           611063059 2020-02-26     51293660   \n",
       "13                  3209752           613450484 2020-03-02       932827   \n",
       "62                    71609           593817449 2020-01-17     29197511   \n",
       "274                   71903           590602364 2020-01-09    228835457   \n",
       "306                  275343           622610014 2020-04-17    215743044   \n",
       "...                     ...                 ...        ...          ...   \n",
       "1114700  974317387304888150  976436841075046364 2023-09-09    173181908   \n",
       "1114701  974317387304888150  977992826740849029 2023-09-11    206028952   \n",
       "1114702  968032750772868752  972842079243299183 2023-09-04    527019129   \n",
       "1114703  968032750772868752  980124618059896949 2023-09-14    197973683   \n",
       "1114704  969283944768308420  976492583225685313 2023-09-09     69937735   \n",
       "\n",
       "        reviewer_name                                           comments  \n",
       "12               Mark  Clean and tidy room in shared apartment in Cha...  \n",
       "13             Joanne  Classy, stylish, and private - Jeremy's condo ...  \n",
       "62              Elton  Belinda was really welcoming and the checking ...  \n",
       "274                도현  공항에 늦게 도착해 다른 곳으로 이동하기 전 하루를 묵었습니다. 의사소통도 문제 없...  \n",
       "306            Sophie  Joyce is a very kind host, who always does her...  \n",
       "...               ...                                                ...  \n",
       "1114700        Dennis  先說總體感受，實在是太棒了！無論是房子還是房東 Coco，都是完美的！\\n房子位置在油麻地，...  \n",
       "1114701       Wallace  This apartment is only 3 mins walk from the Ya...  \n",
       "1114702         Jamie  Awesome stay with Forrest. What a great guy. P...  \n",
       "1114703         Kylin  卫生：很干净\\n实用小贴士：楼下有按摩店累了可以去按摩放松一下\\n沟通：房东很友好，阳光帅气...  \n",
       "1114704       Wai Lun                                 房主人很好，交代清晰及順利，推薦👍🏻  \n",
       "\n",
       "[81004 rows x 6 columns]"
      ]
     },
     "execution_count": 102,
     "metadata": {},
     "output_type": "execute_result"
    }
   ],
   "source": [
    "import pandas as pd\n",
    "\n",
    "# Assuming df is your DataFrame\n",
    "\n",
    "# Convert 'date' column to datetime\n",
    "combined_df['date'] = pd.to_datetime(combined_df['date'])\n",
    "\n",
    "# Filter out the DataFrame for reviews after 2019\n",
    "combined_df = combined_df[combined_df['date'].dt.year > 2019]\n",
    "combined_df"
   ]
  },
  {
   "cell_type": "markdown",
   "id": "c655f75f",
   "metadata": {},
   "source": [
    "### Export the Data"
   ]
  },
  {
   "cell_type": "code",
   "execution_count": 103,
   "id": "3e61ae9a",
   "metadata": {},
   "outputs": [],
   "source": [
    "combined_df.to_csv('review_preprocessed.csv', index=False)"
   ]
  },
  {
   "cell_type": "code",
   "execution_count": 104,
   "id": "d80e3c98",
   "metadata": {},
   "outputs": [],
   "source": [
    "listing_id_df = combined_df['listing_id']"
   ]
  },
  {
   "cell_type": "code",
   "execution_count": 105,
   "id": "6ed748c0",
   "metadata": {},
   "outputs": [],
   "source": [
    "listing_id_df = listing_id_df.drop_duplicates()"
   ]
  },
  {
   "cell_type": "code",
   "execution_count": 106,
   "id": "ea6bc480",
   "metadata": {},
   "outputs": [
    {
     "data": {
      "text/plain": [
       "12                    3209752\n",
       "62                      71609\n",
       "274                     71903\n",
       "306                    275343\n",
       "404                    275344\n",
       "                  ...        \n",
       "1114697    965065707407457243\n",
       "1114699    967767809912510839\n",
       "1114700    974317387304888150\n",
       "1114702    968032750772868752\n",
       "1114704    969283944768308420\n",
       "Name: listing_id, Length: 5007, dtype: int64"
      ]
     },
     "execution_count": 106,
     "metadata": {},
     "output_type": "execute_result"
    }
   ],
   "source": [
    "listing_id_df"
   ]
  },
  {
   "cell_type": "code",
   "execution_count": 107,
   "id": "877a21a6",
   "metadata": {},
   "outputs": [],
   "source": [
    "csv_file_path = 'listing_id.csv'\n",
    "listing_id_df.to_csv(csv_file_path, index=False)"
   ]
  },
  {
   "cell_type": "code",
   "execution_count": 108,
   "id": "0e30b45e",
   "metadata": {},
   "outputs": [
    {
     "data": {
      "text/html": [
       "<div>\n",
       "<style scoped>\n",
       "    .dataframe tbody tr th:only-of-type {\n",
       "        vertical-align: middle;\n",
       "    }\n",
       "\n",
       "    .dataframe tbody tr th {\n",
       "        vertical-align: top;\n",
       "    }\n",
       "\n",
       "    .dataframe thead th {\n",
       "        text-align: right;\n",
       "    }\n",
       "</style>\n",
       "<table border=\"1\" class=\"dataframe\">\n",
       "  <thead>\n",
       "    <tr style=\"text-align: right;\">\n",
       "      <th></th>\n",
       "      <th>listing_id</th>\n",
       "      <th>rid</th>\n",
       "      <th>date</th>\n",
       "      <th>reviewer_id</th>\n",
       "      <th>reviewer_name</th>\n",
       "      <th>comments</th>\n",
       "    </tr>\n",
       "  </thead>\n",
       "  <tbody>\n",
       "    <tr>\n",
       "      <th>12</th>\n",
       "      <td>3209752</td>\n",
       "      <td>611063059</td>\n",
       "      <td>2020-02-26</td>\n",
       "      <td>51293660</td>\n",
       "      <td>Mark</td>\n",
       "      <td>Clean and tidy room in shared apartment in Cha...</td>\n",
       "    </tr>\n",
       "    <tr>\n",
       "      <th>13</th>\n",
       "      <td>3209752</td>\n",
       "      <td>613450484</td>\n",
       "      <td>2020-03-02</td>\n",
       "      <td>932827</td>\n",
       "      <td>Joanne</td>\n",
       "      <td>Classy, stylish, and private - Jeremy's condo ...</td>\n",
       "    </tr>\n",
       "    <tr>\n",
       "      <th>62</th>\n",
       "      <td>71609</td>\n",
       "      <td>593817449</td>\n",
       "      <td>2020-01-17</td>\n",
       "      <td>29197511</td>\n",
       "      <td>Elton</td>\n",
       "      <td>Belinda was really welcoming and the checking ...</td>\n",
       "    </tr>\n",
       "    <tr>\n",
       "      <th>274</th>\n",
       "      <td>71903</td>\n",
       "      <td>590602364</td>\n",
       "      <td>2020-01-09</td>\n",
       "      <td>228835457</td>\n",
       "      <td>도현</td>\n",
       "      <td>공항에 늦게 도착해 다른 곳으로 이동하기 전 하루를 묵었습니다. 의사소통도 문제 없...</td>\n",
       "    </tr>\n",
       "    <tr>\n",
       "      <th>306</th>\n",
       "      <td>275343</td>\n",
       "      <td>622610014</td>\n",
       "      <td>2020-04-17</td>\n",
       "      <td>215743044</td>\n",
       "      <td>Sophie</td>\n",
       "      <td>Joyce is a very kind host, who always does her...</td>\n",
       "    </tr>\n",
       "  </tbody>\n",
       "</table>\n",
       "</div>"
      ],
      "text/plain": [
       "     listing_id        rid       date  reviewer_id reviewer_name  \\\n",
       "12      3209752  611063059 2020-02-26     51293660          Mark   \n",
       "13      3209752  613450484 2020-03-02       932827        Joanne   \n",
       "62        71609  593817449 2020-01-17     29197511         Elton   \n",
       "274       71903  590602364 2020-01-09    228835457            도현   \n",
       "306      275343  622610014 2020-04-17    215743044        Sophie   \n",
       "\n",
       "                                              comments  \n",
       "12   Clean and tidy room in shared apartment in Cha...  \n",
       "13   Classy, stylish, and private - Jeremy's condo ...  \n",
       "62   Belinda was really welcoming and the checking ...  \n",
       "274  공항에 늦게 도착해 다른 곳으로 이동하기 전 하루를 묵었습니다. 의사소통도 문제 없...  \n",
       "306  Joyce is a very kind host, who always does her...  "
      ]
     },
     "execution_count": 108,
     "metadata": {},
     "output_type": "execute_result"
    }
   ],
   "source": [
    "combined_df.head()"
   ]
  },
  {
   "cell_type": "code",
   "execution_count": 109,
   "id": "765de286",
   "metadata": {},
   "outputs": [],
   "source": [
    "reviewer_id_df = combined_df['reviewer_id']"
   ]
  },
  {
   "cell_type": "code",
   "execution_count": 110,
   "id": "e26ffdbb",
   "metadata": {},
   "outputs": [],
   "source": [
    "reviewer_id_df = reviewer_id_df.drop_duplicates()"
   ]
  },
  {
   "cell_type": "code",
   "execution_count": 111,
   "id": "1724d18d",
   "metadata": {},
   "outputs": [
    {
     "data": {
      "text/plain": [
       "12          51293660\n",
       "13            932827\n",
       "62          29197511\n",
       "274        228835457\n",
       "306        215743044\n",
       "             ...    \n",
       "1114698    202688118\n",
       "1114699    159441318\n",
       "1114700    173181908\n",
       "1114701    206028952\n",
       "1114704     69937735\n",
       "Name: reviewer_id, Length: 74202, dtype: int64"
      ]
     },
     "execution_count": 111,
     "metadata": {},
     "output_type": "execute_result"
    }
   ],
   "source": [
    "reviewer_id_df"
   ]
  },
  {
   "cell_type": "code",
   "execution_count": 112,
   "id": "4706ea47",
   "metadata": {},
   "outputs": [],
   "source": [
    "csv_file_path = 'reviewer_id.csv'\n",
    "reviewer_id_df.to_csv(csv_file_path, index=False)"
   ]
  },
  {
   "cell_type": "code",
   "execution_count": 114,
   "id": "244f8c50",
   "metadata": {},
   "outputs": [
    {
     "data": {
      "text/html": [
       "<div>\n",
       "<style scoped>\n",
       "    .dataframe tbody tr th:only-of-type {\n",
       "        vertical-align: middle;\n",
       "    }\n",
       "\n",
       "    .dataframe tbody tr th {\n",
       "        vertical-align: top;\n",
       "    }\n",
       "\n",
       "    .dataframe thead th {\n",
       "        text-align: right;\n",
       "    }\n",
       "</style>\n",
       "<table border=\"1\" class=\"dataframe\">\n",
       "  <thead>\n",
       "    <tr style=\"text-align: right;\">\n",
       "      <th></th>\n",
       "      <th>reviewer_id</th>\n",
       "      <th>reviewer_name</th>\n",
       "    </tr>\n",
       "  </thead>\n",
       "  <tbody>\n",
       "    <tr>\n",
       "      <th>12</th>\n",
       "      <td>51293660</td>\n",
       "      <td>Mark</td>\n",
       "    </tr>\n",
       "    <tr>\n",
       "      <th>13</th>\n",
       "      <td>932827</td>\n",
       "      <td>Joanne</td>\n",
       "    </tr>\n",
       "    <tr>\n",
       "      <th>62</th>\n",
       "      <td>29197511</td>\n",
       "      <td>Elton</td>\n",
       "    </tr>\n",
       "    <tr>\n",
       "      <th>274</th>\n",
       "      <td>228835457</td>\n",
       "      <td>도현</td>\n",
       "    </tr>\n",
       "    <tr>\n",
       "      <th>306</th>\n",
       "      <td>215743044</td>\n",
       "      <td>Sophie</td>\n",
       "    </tr>\n",
       "    <tr>\n",
       "      <th>...</th>\n",
       "      <td>...</td>\n",
       "      <td>...</td>\n",
       "    </tr>\n",
       "    <tr>\n",
       "      <th>1114698</th>\n",
       "      <td>202688118</td>\n",
       "      <td>Tito</td>\n",
       "    </tr>\n",
       "    <tr>\n",
       "      <th>1114699</th>\n",
       "      <td>159441318</td>\n",
       "      <td>宇</td>\n",
       "    </tr>\n",
       "    <tr>\n",
       "      <th>1114700</th>\n",
       "      <td>173181908</td>\n",
       "      <td>Dennis</td>\n",
       "    </tr>\n",
       "    <tr>\n",
       "      <th>1114701</th>\n",
       "      <td>206028952</td>\n",
       "      <td>Wallace</td>\n",
       "    </tr>\n",
       "    <tr>\n",
       "      <th>1114704</th>\n",
       "      <td>69937735</td>\n",
       "      <td>Wai Lun</td>\n",
       "    </tr>\n",
       "  </tbody>\n",
       "</table>\n",
       "<p>74202 rows × 2 columns</p>\n",
       "</div>"
      ],
      "text/plain": [
       "         reviewer_id reviewer_name\n",
       "12          51293660          Mark\n",
       "13            932827        Joanne\n",
       "62          29197511         Elton\n",
       "274        228835457            도현\n",
       "306        215743044        Sophie\n",
       "...              ...           ...\n",
       "1114698    202688118          Tito\n",
       "1114699    159441318             宇\n",
       "1114700    173181908        Dennis\n",
       "1114701    206028952       Wallace\n",
       "1114704     69937735       Wai Lun\n",
       "\n",
       "[74202 rows x 2 columns]"
      ]
     },
     "execution_count": 114,
     "metadata": {},
     "output_type": "execute_result"
    }
   ],
   "source": [
    "reviewer_id_name_df = combined_df[['reviewer_id','reviewer_name']]\n",
    "reviewer_id_name_df = reviewer_id_name_df.drop_duplicates()\n",
    "reviewer_id_name_df"
   ]
  },
  {
   "cell_type": "code",
   "execution_count": 115,
   "id": "fd5cb559",
   "metadata": {},
   "outputs": [],
   "source": [
    "csv_file_path = 'reviewer_id_name.csv'\n",
    "reviewer_id_name_df.to_csv(csv_file_path, index=False)"
   ]
  },
  {
   "cell_type": "code",
   "execution_count": null,
   "id": "a3380b03",
   "metadata": {},
   "outputs": [],
   "source": []
  }
 ],
 "metadata": {
  "kernelspec": {
   "display_name": "Python 3 (ipykernel)",
   "language": "python",
   "name": "python3"
  },
  "language_info": {
   "codemirror_mode": {
    "name": "ipython",
    "version": 3
   },
   "file_extension": ".py",
   "mimetype": "text/x-python",
   "name": "python",
   "nbconvert_exporter": "python",
   "pygments_lexer": "ipython3",
   "version": "3.9.18"
  }
 },
 "nbformat": 4,
 "nbformat_minor": 5
}
